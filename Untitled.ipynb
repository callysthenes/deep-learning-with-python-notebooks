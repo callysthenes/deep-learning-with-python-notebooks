{
 "cells": [
  {
   "cell_type": "code",
   "execution_count": null,
   "id": "d62597b3-5745-48c2-bbc4-c140014599eb",
   "metadata": {},
   "outputs": [],
   "source": [
    "#use keras and create a two layer two dimensional deep learning model\n",
    "model=keras.Sequential()\n",
    "model.add(keras.layers.Dense(8,input_shape=(X.shape[1],)))\n",
    "model.add(keras.layers.Dense(1,activation=\"sigmoid\"))\n",
    "#Compile the model, set the loss function and the optimizer\n",
    "model.compile(loss=\"binary_crossentropy\",optimizer=keras.optimizers.SGD(lr=0.01))\n",
    "#calculate the accuracy of the model\n",
    "model.fit(X_train,y_train,epochs=100)\n",
    "\n",
    "#use the model to make predictions\n",
    "y_pred=model.predict_classes(X_test)\n",
    "print(\"Accuracy:\",np.mean(y_test==y_pred))\n",
    "\n",
    "#print the weights and intercepts for the model\n",
    "print(\"Weights:\",model.get_weights()[0])\n",
    "print(\"Bias:\",model.get_weights()[1])\n",
    "\n",
    "#print the weights and intercepts for the original logistic regression model\n",
    "print(\"Original Weights:\",clf.coef_)\n",
    "print"
   ]
  }
 ],
 "metadata": {
  "kernelspec": {
   "display_name": "Python 3 (ipykernel)",
   "language": "python",
   "name": "python3"
  },
  "language_info": {
   "codemirror_mode": {
    "name": "ipython",
    "version": 3
   },
   "file_extension": ".py",
   "mimetype": "text/x-python",
   "name": "python",
   "nbconvert_exporter": "python",
   "pygments_lexer": "ipython3",
   "version": "3.9.13"
  }
 },
 "nbformat": 4,
 "nbformat_minor": 5
}
